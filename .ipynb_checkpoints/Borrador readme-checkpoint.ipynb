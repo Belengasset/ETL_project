{
 "cells": [
  {
   "cell_type": "markdown",
   "id": "48afe07e",
   "metadata": {},
   "source": [
    "# Para el readme:\n",
    "\n",
    "El data set lo he extraido de [Kaggle Data Sets](https://www.kaggle.com/datasets).\n",
    "\n",
    "En el siguiente link tendras acceso al data set original: https://www.kaggle.com/datasets/narmelan/travelleisure-worlds-best-hotels-2022\n",
    "\n",
    "**¿Que es Travel+ Leisure?**\n",
    "Travel + Leisure es una revista de viajes con sede en la ciudad de Nueva York, Nueva York. Publicado 12 veces al año, tiene 4,8 millones de lectores, según su media kit corporativo.\n",
    "\n",
    "En el documento \"limpieza\" se realiza :\n"
   ]
  },
  {
   "cell_type": "code",
   "execution_count": null,
   "id": "aa82d70f",
   "metadata": {},
   "outputs": [],
   "source": []
  }
 ],
 "metadata": {
  "kernelspec": {
   "display_name": "IRONHACK",
   "language": "python",
   "name": "ironhack"
  },
  "language_info": {
   "codemirror_mode": {
    "name": "ipython",
    "version": 3
   },
   "file_extension": ".py",
   "mimetype": "text/x-python",
   "name": "python",
   "nbconvert_exporter": "python",
   "pygments_lexer": "ipython3",
   "version": "3.10.8"
  }
 },
 "nbformat": 4,
 "nbformat_minor": 5
}
