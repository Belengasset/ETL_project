{
 "cells": [
  {
   "cell_type": "markdown",
   "id": "6edf88fa",
   "metadata": {},
   "source": [
    "# Carga en SQL"
   ]
  },
  {
   "cell_type": "code",
   "execution_count": 1,
   "id": "65ebe6ea",
   "metadata": {},
   "outputs": [],
   "source": [
    "import pandas as pd\n",
    "import sqlalchemy as alch\n",
    "\n",
    "from getpass import getpass\n"
   ]
  },
  {
   "cell_type": "markdown",
   "id": "bbc05c2f",
   "metadata": {},
   "source": [
    "CSV para cargar"
   ]
  },
  {
   "cell_type": "code",
   "execution_count": 2,
   "id": "41fa0add",
   "metadata": {},
   "outputs": [],
   "source": [
    "Google_reviews = pd.read_csv(\"Data/df_datos_google_unicos.csv\", sep=',', encoding='UTF-8', index_col=0)\n",
    "Trip_reviews = pd.read_csv(\"Data/df_datos_trip.csv\", sep=',', encoding='UTF-8', index_col=0)"
   ]
  },
  {
   "cell_type": "code",
   "execution_count": 3,
   "id": "9b8682ff",
   "metadata": {},
   "outputs": [
    {
     "name": "stdout",
     "output_type": "stream",
     "text": [
      "Contraseña de MySQL: ········\n"
     ]
    }
   ],
   "source": [
    "password = getpass(\"Contraseña de MySQL: \")"
   ]
  },
  {
   "cell_type": "code",
   "execution_count": null,
   "id": "1a080c9e",
   "metadata": {},
   "outputs": [],
   "source": []
  }
 ],
 "metadata": {
  "kernelspec": {
   "display_name": "IRONHACK",
   "language": "python",
   "name": "ironhack"
  },
  "language_info": {
   "codemirror_mode": {
    "name": "ipython",
    "version": 3
   },
   "file_extension": ".py",
   "mimetype": "text/x-python",
   "name": "python",
   "nbconvert_exporter": "python",
   "pygments_lexer": "ipython3",
   "version": "3.10.8"
  }
 },
 "nbformat": 4,
 "nbformat_minor": 5
}
